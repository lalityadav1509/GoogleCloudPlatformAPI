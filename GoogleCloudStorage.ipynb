{
 "cells": [
  {
   "cell_type": "code",
   "execution_count": 40,
   "metadata": {},
   "outputs": [
    {
     "name": "stdout",
     "output_type": "stream",
     "text": [
      "Bucket mybucket215 created\n"
     ]
    }
   ],
   "source": [
    "from google.cloud import storage\n",
    "import os\n",
    "os.environ[\"GOOGLE_APPLICATION_CREDENTIALS\"]=\"C:/Users/Dell/Downloads/DataScienceDemo-d8f9a590d6d1.json\" \n",
    "storage_client = storage.Client()\n",
    "def create_bucket(bucket_name):\n",
    "    \"\"\"Creates a new bucket.\"\"\"\n",
    "storage_client = storage.Client()\n",
    "bucket_name =\"mybucket215\"\n",
    "bucket = storage_client.create_bucket(bucket_name)\n",
    "print('Bucket {} created'.format(bucket.name))"
   ]
  },
  {
   "cell_type": "code",
   "execution_count": null,
   "metadata": {},
   "outputs": [],
   "source": [
    "from google.cloud import storage\n",
    "import os\n",
    "os.environ[\"GOOGLE_APPLICATION_CREDENTIALS\"]=\"C:/Users/Dell/Downloads/DataScienceDemo-d8f9a590d6d1.json\" \n",
    "storage_client = storage.Client()\n",
    "#def upload_blob(bucket_name, source_file_name, destination_blob_name):\n",
    "   # \"\"\"Uploads a file to the bucket.\"\"\"\n",
    "   \n",
    "  #  bucket_name ='mybucket210'\n",
    "   # source_file_name ='C:/Users/Dell/Desktop/Desktop/Aadhaar.pdf'\n",
    "   # destination_blob_name = 'C:/Users/Dell/Desktop/Desktop/Aadhaar.pdf'\n",
    "bucket = storage_client.get_bucket('mybucket210')\n",
    "blob = bucket.blob('C:/Users/Dell/Desktop/Desktop/Aadhaar.pdf')\n",
    "blob.upload_from_filename('C:/Users/Dell/Desktop/Desktop/Aadhaar.pdf')\n",
    "print('File {} uploaded to {}.'.format(\n",
    "        'C:/Users/Dell/Desktop/Desktop/Aadhaar.pdf',\n",
    "        'C:/Users/Dell/Desktop/Desktop/Aadhaar.pdf'))"
   ]
  },
  {
   "cell_type": "code",
   "execution_count": 38,
   "metadata": {},
   "outputs": [
    {
     "name": "stdout",
     "output_type": "stream",
     "text": [
      "File C:/Users/Dell/Downloads/StudentsPerformance.csv uploaded to C:/Users/Dell/Downloads/StudentsPerformance.csv.\n"
     ]
    }
   ],
   "source": [
    "from google.cloud import storage\n",
    "import os\n",
    "os.environ[\"GOOGLE_APPLICATION_CREDENTIALS\"]=\"C:/Users/Dell/Downloads/DataScienceDemo-d8f9a590d6d1.json\" \n",
    "storage_client = storage.Client()\n",
    "#def upload_blob(bucket_name, source_file_name, destination_blob_name):\n",
    "   # \"\"\"Uploads a file to the bucket.\"\"\"\n",
    "   \n",
    "  #  bucket_name ='mybucket210'\n",
    "   # source_file_name ='C:/Users/Dell/Desktop/Desktop/Aadhaar.pdf'\n",
    "   # destination_blob_name = 'C:/Users/Dell/Desktop/Desktop/Aadhaar.pdf'\n",
    "bucket = storage_client.get_bucket('mybucket214')\n",
    "blob = bucket.blob('C:/Users/Dell/Downloads/StudentsPerformance.csv')\n",
    "blob.upload_from_filename('C:/Users/Dell/Downloads/StudentsPerformance.csv')\n",
    "print('File {} uploaded to {}.'.format(\n",
    "        'C:/Users/Dell/Downloads/StudentsPerformance.csv',\n",
    "        'C:/Users/Dell/Downloads/StudentsPerformance.csv'))"
   ]
  },
  {
   "cell_type": "code",
   "execution_count": null,
   "metadata": {},
   "outputs": [],
   "source": []
  }
 ],
 "metadata": {
  "kernelspec": {
   "display_name": "Python 3",
   "language": "python",
   "name": "python3"
  },
  "language_info": {
   "codemirror_mode": {
    "name": "ipython",
    "version": 3
   },
   "file_extension": ".py",
   "mimetype": "text/x-python",
   "name": "python",
   "nbconvert_exporter": "python",
   "pygments_lexer": "ipython3",
   "version": "3.7.0"
  }
 },
 "nbformat": 4,
 "nbformat_minor": 2
}
