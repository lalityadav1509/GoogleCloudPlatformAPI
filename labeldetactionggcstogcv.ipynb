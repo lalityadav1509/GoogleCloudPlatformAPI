{
 "cells": [
  {
   "cell_type": "code",
   "execution_count": 8,
   "metadata": {},
   "outputs": [
    {
     "name": "stdout",
     "output_type": "stream",
     "text": [
      "Labels:\n",
      "vacation\n",
      "body of water\n",
      "beach\n",
      "fun\n",
      "sea\n",
      "summer\n",
      "sky\n",
      "friendship\n",
      "smile\n",
      "leisure\n"
     ]
    }
   ],
   "source": [
    "import io\n",
    "import os\n",
    "os.environ[\"GOOGLE_APPLICATION_CREDENTIALS\"]=\"C:/Users/Dell/Downloads/DataScienceDemo-d8f9a590d6d1.json\"\n",
    "# Imports the Google Cloud client library\n",
    "from google.cloud import vision\n",
    "from google.cloud.vision import types\n",
    "\n",
    "client = vision.ImageAnnotatorClient()\n",
    "image = vision.types.Image()\n",
    "image.source.image_uri ='gs://mybucket215/beach.jpg'\n",
    "response = client.label_detection(image=image)\n",
    "labels = response.label_annotations\n",
    "print('Labels:')\n",
    "for label in labels:\n",
    "    print(label.description)\n",
    "# [END vision_label_detection_gcs]"
   ]
  },
  {
   "cell_type": "code",
   "execution_count": null,
   "metadata": {},
   "outputs": [],
   "source": []
  }
 ],
 "metadata": {
  "kernelspec": {
   "display_name": "Python 3",
   "language": "python",
   "name": "python3"
  },
  "language_info": {
   "codemirror_mode": {
    "name": "ipython",
    "version": 3
   },
   "file_extension": ".py",
   "mimetype": "text/x-python",
   "name": "python",
   "nbconvert_exporter": "python",
   "pygments_lexer": "ipython3",
   "version": "3.7.0"
  }
 },
 "nbformat": 4,
 "nbformat_minor": 2
}
