{
 "cells": [
  {
   "cell_type": "code",
   "execution_count": 17,
   "metadata": {},
   "outputs": [],
   "source": [
    "from google.cloud import bigquery\n",
    "import os\n",
    "os.environ[\"GOOGLE_APPLICATION_CREDENTIALS\"]=\"C:/Users/Dell/Downloads/DataScienceDemo-d8f9a590d6d1.json\" \n",
    "client = bigquery.Client()\n",
    "dataset_id = 'mysciencedemo214'\n",
    "\n",
    "# Create a DatasetReference using a chosen dataset ID.\n",
    "# The project defaults to the Client's project if not specified.\n",
    "dataset_ref = client.dataset(dataset_id)\n",
    "\n",
    "# Construct a full Dataset object to send to the API.\n",
    "dataset = bigquery.Dataset(dataset_ref)\n",
    "# Specify the geographic location where the dataset should reside.\n",
    "dataset.location = \"US\"\n",
    "\n",
    "# Send the dataset to the API for creation.\n",
    "# Raises google.api_core.exceptions.Conflict if the Dataset already\n",
    "# exists within the project.\n",
    "dataset = client.create_dataset(dataset)  # API request"
   ]
  },
  {
   "cell_type": "code",
   "execution_count": 18,
   "metadata": {},
   "outputs": [
    {
     "name": "stdout",
     "output_type": "stream",
     "text": [
      "Starting job 7744bc38-c7e3-4fb0-8f75-f69d9b8f2ca3\n",
      "Job finished.\n",
      "Loaded 1000 rows.\n"
     ]
    }
   ],
   "source": [
    "from google.cloud import bigquery\n",
    "import datetime\n",
    "import os\n",
    "os.environ[\"GOOGLE_APPLICATION_CREDENTIALS\"]=\"C:/Users/Dell/Downloads/DataScienceDemo-d8f9a590d6d1.json\" \n",
    "client = bigquery.Client()\n",
    "dataset_id = 'mysciencedemo214'\n",
    "dataset_ref = client.dataset(dataset_id)\n",
    "job_config = bigquery.LoadJobConfig()\n",
    "job_config.autodetect = True\n",
    "job_config.skip_leading_rows = 1\n",
    "# The source format defaults to CSV, so the line below is optional.\n",
    "job_config.source_format = bigquery.SourceFormat.CSV\n",
    "uri = 'gs://mybucket214/C:/Users/Dell/Downloads/StudentsPerformance.csv'\n",
    "load_job = client.load_table_from_uri(\n",
    "    uri,\n",
    "    dataset_ref.table('StudentsPerformance'),\n",
    "    job_config=job_config)  # API request\n",
    "print('Starting job {}'.format(load_job.job_id))\n",
    "\n",
    "load_job.result()  # Waits for table load to complete.\n",
    "print('Job finished.')\n",
    "\n",
    "destination_table = client.get_table(dataset_ref.table('StudentsPerformance'))\n",
    "print('Loaded {} rows.'.format(destination_table.num_rows))"
   ]
  },
  {
   "cell_type": "code",
   "execution_count": 28,
   "metadata": {},
   "outputs": [
    {
     "name": "stdout",
     "output_type": "stream",
     "text": [
      "Starting job 094c87d2-e8a6-4101-8b52-a95e20660c95\n",
      "Job finished.\n",
      "Loaded 2000 rows.\n"
     ]
    }
   ],
   "source": [
    "from google.cloud import bigquery\n",
    "import datetime\n",
    "import os\n",
    "os.environ[\"GOOGLE_APPLICATION_CREDENTIALS\"]=\"C:/Users/Dell/Downloads/DataScienceDemo-d8f9a590d6d1.json\" \n",
    "client = bigquery.Client()\n",
    "dataset_id = 'mysciencedemo214'\n",
    "dataset_ref = client.dataset(dataset_id)\n",
    "job_config = bigquery.LoadJobConfig()\n",
    "job_config.autodetect = True\n",
    "job_config.skip_leading_rows = 1\n",
    "# The source format defaults to CSV, so the line below is optional.\n",
    "job_config.source_format = bigquery.SourceFormat.CSV\n",
    "uri = 'gs://mybucket214/C:/Users/Dell/Downloads/StudentsPerformance.csv'\n",
    "load_job = client.load_table_from_uri(\n",
    "    uri,\n",
    "    dataset_ref.table('StudentsPerformance'),\n",
    "    job_config=job_config)  # API request\n",
    "print('Starting job {}'.format(load_job.job_id))\n",
    "\n",
    "load_job.result()  # Waits for table load to complete.\n",
    "print('Job finished.')\n",
    "\n",
    "destination_table = client.get_table(dataset_ref.table('StudentsPerformance'))\n",
    "print('Loaded {} rows.'.format(destination_table.num_rows))"
   ]
  },
  {
   "cell_type": "code",
   "execution_count": 26,
   "metadata": {},
   "outputs": [],
   "source": [
    "from google.cloud import bigquery\n",
    "import os\n",
    "os.environ[\"GOOGLE_APPLICATION_CREDENTIALS\"]=\"C:/Users/Dell/Downloads/DataScienceDemo-d8f9a590d6d1.json\" \n",
    "client = bigquery.Client()\n",
    "dataset = client.get_dataset(client.dataset('mydatadciencedemo'))\n",
    "\n",
    "entry = bigquery.AccessEntry(\n",
    "    role='OWNER',\n",
    "    entity_type='userByEmail',\n",
    "    entity_id='lalityadav1509@gmail.com')\n",
    "assert entry not in dataset.access_entries\n",
    "entries = list(dataset.access_entries)\n",
    "entries.append(entry)\n",
    "dataset.access_entries = entries\n",
    "\n",
    "dataset = client.update_dataset(dataset, ['access_entries'])  # API request\n",
    "\n",
    "assert entry in dataset.access_entries"
   ]
  },
  {
   "cell_type": "code",
   "execution_count": null,
   "metadata": {},
   "outputs": [],
   "source": []
  }
 ],
 "metadata": {
  "kernelspec": {
   "display_name": "Python 3",
   "language": "python",
   "name": "python3"
  },
  "language_info": {
   "codemirror_mode": {
    "name": "ipython",
    "version": 3
   },
   "file_extension": ".py",
   "mimetype": "text/x-python",
   "name": "python",
   "nbconvert_exporter": "python",
   "pygments_lexer": "ipython3",
   "version": "3.7.0"
  }
 },
 "nbformat": 4,
 "nbformat_minor": 2
}
